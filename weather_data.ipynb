{
 "cells": [
  {
   "cell_type": "code",
   "execution_count": 1,
   "metadata": {},
   "outputs": [],
   "source": [
    "import pandas as pd\n",
    "from datetime import datetime\n",
    "import getpass"
   ]
  },
  {
   "cell_type": "code",
   "execution_count": null,
   "metadata": {},
   "outputs": [],
   "source": [
    "# p = getpass.getpass(prompt=\"Password: \")\n",
    "# rds_connection_string = f\"postgres:{p}@localhost:5432/trimet_db\"\n",
    "# engine = create_engine(f'postgresql://{rds_connection_string}')"
   ]
  },
  {
   "cell_type": "code",
   "execution_count": 2,
   "metadata": {},
   "outputs": [],
   "source": [
    "weather_data = pd.read_csv(\"data/weather_data.csv\")"
   ]
  },
  {
   "cell_type": "code",
   "execution_count": 3,
   "metadata": {},
   "outputs": [
    {
     "data": {
      "text/html": [
       "<div>\n",
       "<style scoped>\n",
       "    .dataframe tbody tr th:only-of-type {\n",
       "        vertical-align: middle;\n",
       "    }\n",
       "\n",
       "    .dataframe tbody tr th {\n",
       "        vertical-align: top;\n",
       "    }\n",
       "\n",
       "    .dataframe thead th {\n",
       "        text-align: right;\n",
       "    }\n",
       "</style>\n",
       "<table border=\"1\" class=\"dataframe\">\n",
       "  <thead>\n",
       "    <tr style=\"text-align: right;\">\n",
       "      <th></th>\n",
       "      <th>dt</th>\n",
       "      <th>dt_iso</th>\n",
       "      <th>timezone</th>\n",
       "      <th>city_name</th>\n",
       "      <th>lat</th>\n",
       "      <th>lon</th>\n",
       "      <th>temp</th>\n",
       "      <th>temp_min</th>\n",
       "      <th>temp_max</th>\n",
       "      <th>rain_1h</th>\n",
       "      <th>...</th>\n",
       "      <th>rain_6h</th>\n",
       "      <th>rain_12h</th>\n",
       "      <th>rain_24h</th>\n",
       "      <th>rain_today</th>\n",
       "      <th>snow_1h</th>\n",
       "      <th>snow_3h</th>\n",
       "      <th>snow_6h</th>\n",
       "      <th>snow_12h</th>\n",
       "      <th>snow_24h</th>\n",
       "      <th>snow_today</th>\n",
       "    </tr>\n",
       "  </thead>\n",
       "  <tbody>\n",
       "    <tr>\n",
       "      <td>0</td>\n",
       "      <td>1483228800</td>\n",
       "      <td>2017-01-01 00:00:00 +0000 UTC</td>\n",
       "      <td>-28800</td>\n",
       "      <td>Beaverton</td>\n",
       "      <td>45.487172</td>\n",
       "      <td>-122.80378</td>\n",
       "      <td>35.64</td>\n",
       "      <td>33.80</td>\n",
       "      <td>37.40</td>\n",
       "      <td>NaN</td>\n",
       "      <td>...</td>\n",
       "      <td>0.0</td>\n",
       "      <td>NaN</td>\n",
       "      <td>NaN</td>\n",
       "      <td>NaN</td>\n",
       "      <td>NaN</td>\n",
       "      <td>NaN</td>\n",
       "      <td>NaN</td>\n",
       "      <td>NaN</td>\n",
       "      <td>NaN</td>\n",
       "      <td>NaN</td>\n",
       "    </tr>\n",
       "    <tr>\n",
       "      <td>1</td>\n",
       "      <td>1483232400</td>\n",
       "      <td>2017-01-01 01:00:00 +0000 UTC</td>\n",
       "      <td>-28800</td>\n",
       "      <td>Beaverton</td>\n",
       "      <td>45.487172</td>\n",
       "      <td>-122.80378</td>\n",
       "      <td>35.47</td>\n",
       "      <td>33.80</td>\n",
       "      <td>37.40</td>\n",
       "      <td>0.0</td>\n",
       "      <td>...</td>\n",
       "      <td>NaN</td>\n",
       "      <td>NaN</td>\n",
       "      <td>NaN</td>\n",
       "      <td>NaN</td>\n",
       "      <td>NaN</td>\n",
       "      <td>NaN</td>\n",
       "      <td>NaN</td>\n",
       "      <td>NaN</td>\n",
       "      <td>NaN</td>\n",
       "      <td>NaN</td>\n",
       "    </tr>\n",
       "    <tr>\n",
       "      <td>2</td>\n",
       "      <td>1483236000</td>\n",
       "      <td>2017-01-01 02:00:00 +0000 UTC</td>\n",
       "      <td>-28800</td>\n",
       "      <td>Beaverton</td>\n",
       "      <td>45.487172</td>\n",
       "      <td>-122.80378</td>\n",
       "      <td>34.70</td>\n",
       "      <td>33.08</td>\n",
       "      <td>35.96</td>\n",
       "      <td>NaN</td>\n",
       "      <td>...</td>\n",
       "      <td>NaN</td>\n",
       "      <td>NaN</td>\n",
       "      <td>NaN</td>\n",
       "      <td>NaN</td>\n",
       "      <td>0.0</td>\n",
       "      <td>NaN</td>\n",
       "      <td>NaN</td>\n",
       "      <td>NaN</td>\n",
       "      <td>NaN</td>\n",
       "      <td>NaN</td>\n",
       "    </tr>\n",
       "    <tr>\n",
       "      <td>3</td>\n",
       "      <td>1483239600</td>\n",
       "      <td>2017-01-01 03:00:00 +0000 UTC</td>\n",
       "      <td>-28800</td>\n",
       "      <td>Beaverton</td>\n",
       "      <td>45.487172</td>\n",
       "      <td>-122.80378</td>\n",
       "      <td>36.03</td>\n",
       "      <td>35.06</td>\n",
       "      <td>37.40</td>\n",
       "      <td>0.0</td>\n",
       "      <td>...</td>\n",
       "      <td>NaN</td>\n",
       "      <td>NaN</td>\n",
       "      <td>NaN</td>\n",
       "      <td>NaN</td>\n",
       "      <td>NaN</td>\n",
       "      <td>NaN</td>\n",
       "      <td>NaN</td>\n",
       "      <td>NaN</td>\n",
       "      <td>NaN</td>\n",
       "      <td>NaN</td>\n",
       "    </tr>\n",
       "    <tr>\n",
       "      <td>4</td>\n",
       "      <td>1483243200</td>\n",
       "      <td>2017-01-01 04:00:00 +0000 UTC</td>\n",
       "      <td>-28800</td>\n",
       "      <td>Beaverton</td>\n",
       "      <td>45.487172</td>\n",
       "      <td>-122.80378</td>\n",
       "      <td>34.14</td>\n",
       "      <td>32.00</td>\n",
       "      <td>35.96</td>\n",
       "      <td>NaN</td>\n",
       "      <td>...</td>\n",
       "      <td>NaN</td>\n",
       "      <td>NaN</td>\n",
       "      <td>NaN</td>\n",
       "      <td>NaN</td>\n",
       "      <td>0.3</td>\n",
       "      <td>NaN</td>\n",
       "      <td>NaN</td>\n",
       "      <td>NaN</td>\n",
       "      <td>NaN</td>\n",
       "      <td>NaN</td>\n",
       "    </tr>\n",
       "  </tbody>\n",
       "</table>\n",
       "<p>5 rows × 21 columns</p>\n",
       "</div>"
      ],
      "text/plain": [
       "           dt                         dt_iso  timezone  city_name        lat  \\\n",
       "0  1483228800  2017-01-01 00:00:00 +0000 UTC    -28800  Beaverton  45.487172   \n",
       "1  1483232400  2017-01-01 01:00:00 +0000 UTC    -28800  Beaverton  45.487172   \n",
       "2  1483236000  2017-01-01 02:00:00 +0000 UTC    -28800  Beaverton  45.487172   \n",
       "3  1483239600  2017-01-01 03:00:00 +0000 UTC    -28800  Beaverton  45.487172   \n",
       "4  1483243200  2017-01-01 04:00:00 +0000 UTC    -28800  Beaverton  45.487172   \n",
       "\n",
       "         lon   temp  temp_min  temp_max  rain_1h  ...  rain_6h  rain_12h  \\\n",
       "0 -122.80378  35.64     33.80     37.40      NaN  ...      0.0       NaN   \n",
       "1 -122.80378  35.47     33.80     37.40      0.0  ...      NaN       NaN   \n",
       "2 -122.80378  34.70     33.08     35.96      NaN  ...      NaN       NaN   \n",
       "3 -122.80378  36.03     35.06     37.40      0.0  ...      NaN       NaN   \n",
       "4 -122.80378  34.14     32.00     35.96      NaN  ...      NaN       NaN   \n",
       "\n",
       "   rain_24h  rain_today  snow_1h  snow_3h  snow_6h  snow_12h  snow_24h  \\\n",
       "0       NaN         NaN      NaN      NaN      NaN       NaN       NaN   \n",
       "1       NaN         NaN      NaN      NaN      NaN       NaN       NaN   \n",
       "2       NaN         NaN      0.0      NaN      NaN       NaN       NaN   \n",
       "3       NaN         NaN      NaN      NaN      NaN       NaN       NaN   \n",
       "4       NaN         NaN      0.3      NaN      NaN       NaN       NaN   \n",
       "\n",
       "   snow_today  \n",
       "0         NaN  \n",
       "1         NaN  \n",
       "2         NaN  \n",
       "3         NaN  \n",
       "4         NaN  \n",
       "\n",
       "[5 rows x 21 columns]"
      ]
     },
     "execution_count": 3,
     "metadata": {},
     "output_type": "execute_result"
    }
   ],
   "source": [
    "weather_data.head()"
   ]
  },
  {
   "cell_type": "code",
   "execution_count": 4,
   "metadata": {},
   "outputs": [],
   "source": [
    "weather_data = weather_data[['dt_iso', 'rain_1h', 'snow_1h']]"
   ]
  },
  {
   "cell_type": "code",
   "execution_count": 5,
   "metadata": {},
   "outputs": [],
   "source": [
    "weather_data = weather_data.rename(columns={'dt_iso':'date', 'rain_1h':'rain', 'snow_1h':'snow'})"
   ]
  },
  {
   "cell_type": "code",
   "execution_count": 6,
   "metadata": {},
   "outputs": [],
   "source": [
    "weather_data = weather_data.fillna(0)"
   ]
  },
  {
   "cell_type": "code",
   "execution_count": 7,
   "metadata": {},
   "outputs": [],
   "source": [
    "for i in weather_data['date']:\n",
    "\n",
    "    weather_data['date'] = pd.to_datetime(weather_data['date'], format='%Y-%m-%d %H:%M:%S %z UTC')"
   ]
  },
  {
   "cell_type": "code",
   "execution_count": 8,
   "metadata": {},
   "outputs": [],
   "source": [
    "weather_data = weather_data.groupby(pd.Grouper(key='date', freq='M')).sum()"
   ]
  },
  {
   "cell_type": "code",
   "execution_count": 9,
   "metadata": {},
   "outputs": [],
   "source": [
    "weather_data['total_precip'] = (weather_data['rain'] + weather_data['snow']) * 0.0394"
   ]
  },
  {
   "cell_type": "code",
   "execution_count": 10,
   "metadata": {},
   "outputs": [],
   "source": [
    "weather_data['avg_precip'] = weather_data['total_precip'] / 6"
   ]
  },
  {
   "cell_type": "code",
   "execution_count": 11,
   "metadata": {},
   "outputs": [],
   "source": [
    "weather_data['rain'] = weather_data['rain'].map(\"{:.2f}\".format)\n",
    "weather_data['snow'] = weather_data['snow'].map(\"{:.2f}\".format)\n",
    "weather_data['total_precip'] = weather_data['total_precip'].map(\"{:.2f}\".format)\n",
    "weather_data['avg_precip'] = weather_data['avg_precip'].map(\"{:.2f}\".format)"
   ]
  },
  {
   "cell_type": "code",
   "execution_count": 12,
   "metadata": {},
   "outputs": [],
   "source": [
    "weather_data.reset_index(inplace=True)"
   ]
  },
  {
   "cell_type": "code",
   "execution_count": 13,
   "metadata": {},
   "outputs": [
    {
     "data": {
      "text/html": [
       "<div>\n",
       "<style scoped>\n",
       "    .dataframe tbody tr th:only-of-type {\n",
       "        vertical-align: middle;\n",
       "    }\n",
       "\n",
       "    .dataframe tbody tr th {\n",
       "        vertical-align: top;\n",
       "    }\n",
       "\n",
       "    .dataframe thead th {\n",
       "        text-align: right;\n",
       "    }\n",
       "</style>\n",
       "<table border=\"1\" class=\"dataframe\">\n",
       "  <thead>\n",
       "    <tr style=\"text-align: right;\">\n",
       "      <th></th>\n",
       "      <th>date</th>\n",
       "      <th>rain</th>\n",
       "      <th>snow</th>\n",
       "      <th>total_precip</th>\n",
       "      <th>avg_precip</th>\n",
       "    </tr>\n",
       "  </thead>\n",
       "  <tbody>\n",
       "    <tr>\n",
       "      <td>0</td>\n",
       "      <td>2017-01-31 00:00:00+00:00</td>\n",
       "      <td>234.41</td>\n",
       "      <td>136.92</td>\n",
       "      <td>14.63</td>\n",
       "      <td>2.44</td>\n",
       "    </tr>\n",
       "    <tr>\n",
       "      <td>1</td>\n",
       "      <td>2017-02-28 00:00:00+00:00</td>\n",
       "      <td>1000.67</td>\n",
       "      <td>36.97</td>\n",
       "      <td>40.88</td>\n",
       "      <td>6.81</td>\n",
       "    </tr>\n",
       "    <tr>\n",
       "      <td>2</td>\n",
       "      <td>2017-03-31 00:00:00+00:00</td>\n",
       "      <td>594.85</td>\n",
       "      <td>4.26</td>\n",
       "      <td>23.60</td>\n",
       "      <td>3.93</td>\n",
       "    </tr>\n",
       "    <tr>\n",
       "      <td>3</td>\n",
       "      <td>2017-04-30 00:00:00+00:00</td>\n",
       "      <td>420.50</td>\n",
       "      <td>0.00</td>\n",
       "      <td>16.57</td>\n",
       "      <td>2.76</td>\n",
       "    </tr>\n",
       "    <tr>\n",
       "      <td>4</td>\n",
       "      <td>2017-05-31 00:00:00+00:00</td>\n",
       "      <td>179.12</td>\n",
       "      <td>0.00</td>\n",
       "      <td>7.06</td>\n",
       "      <td>1.18</td>\n",
       "    </tr>\n",
       "  </tbody>\n",
       "</table>\n",
       "</div>"
      ],
      "text/plain": [
       "                       date     rain    snow total_precip avg_precip\n",
       "0 2017-01-31 00:00:00+00:00   234.41  136.92        14.63       2.44\n",
       "1 2017-02-28 00:00:00+00:00  1000.67   36.97        40.88       6.81\n",
       "2 2017-03-31 00:00:00+00:00   594.85    4.26        23.60       3.93\n",
       "3 2017-04-30 00:00:00+00:00   420.50    0.00        16.57       2.76\n",
       "4 2017-05-31 00:00:00+00:00   179.12    0.00         7.06       1.18"
      ]
     },
     "execution_count": 13,
     "metadata": {},
     "output_type": "execute_result"
    }
   ],
   "source": [
    "weather_data.head()"
   ]
  },
  {
   "cell_type": "code",
   "execution_count": 14,
   "metadata": {},
   "outputs": [],
   "source": [
    "weather_data.to_csv(\"static/data/weather_data.csv\", index=False, header=True)"
   ]
  },
  {
   "cell_type": "code",
   "execution_count": null,
   "metadata": {},
   "outputs": [],
   "source": [
    "# weather_data.to_sql('weather_data', con=engine, if_exists=\"append\", index=False)"
   ]
  }
 ],
 "metadata": {
  "kernelspec": {
   "display_name": "Python [conda env:PythonData] *",
   "language": "python",
   "name": "conda-env-PythonData-py"
  },
  "language_info": {
   "codemirror_mode": {
    "name": "ipython",
    "version": 3
   },
   "file_extension": ".py",
   "mimetype": "text/x-python",
   "name": "python",
   "nbconvert_exporter": "python",
   "pygments_lexer": "ipython3",
   "version": "3.6.9"
  }
 },
 "nbformat": 4,
 "nbformat_minor": 2
}
